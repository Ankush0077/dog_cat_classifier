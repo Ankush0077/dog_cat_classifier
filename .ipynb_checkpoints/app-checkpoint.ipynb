{
 "cells": [
  {
   "cell_type": "code",
   "execution_count": null,
   "id": "afae7fe2",
   "metadata": {},
   "outputs": [],
   "source": [
    "#|default_exp app"
   ]
  },
  {
   "cell_type": "code",
   "execution_count": null,
   "id": "e9e2eecd",
   "metadata": {},
   "outputs": [],
   "source": [
    "#|export\n",
    "from fastai.vision.all import *\n",
    "import gradio as gr\n",
    "\n",
    "def is_cat(x): return x[0].isupper()"
   ]
  },
  {
   "cell_type": "code",
   "execution_count": null,
   "id": "ebf4a852",
   "metadata": {},
   "outputs": [],
   "source": [
    "im = PILImage.create('dog.jpg')\n",
    "im.thumbnail((192,192))\n",
    "im"
   ]
  },
  {
   "cell_type": "code",
   "execution_count": null,
   "id": "6d8ac797",
   "metadata": {},
   "outputs": [],
   "source": [
    "#|export\n",
    "learn = load_learner('model.pkl')"
   ]
  },
  {
   "cell_type": "code",
   "execution_count": null,
   "id": "6f5dc3d0",
   "metadata": {},
   "outputs": [],
   "source": [
    "learn.predict(im)"
   ]
  },
  {
   "cell_type": "code",
   "execution_count": null,
   "id": "91ac1314",
   "metadata": {},
   "outputs": [],
   "source": [
    "#|export\n",
    "categories = ('Dog', 'Cat')\n",
    "\n",
    "def classify_image(img):\n",
    "    pred,idx,probs = learn.predict(img)"
   ]
  },
  {
   "cell_type": "code",
   "execution_count": null,
   "id": "63c13976",
   "metadata": {},
   "outputs": [],
   "source": [
    "classify_image(im)"
   ]
  },
  {
   "cell_type": "code",
   "execution_count": null,
   "id": "20e7f61b",
   "metadata": {},
   "outputs": [],
   "source": [
    "#|export\n",
    "image = gr.inputs,Image(shape=(192,192))\n",
    "label = gr.outputs.label()\n",
    "examples = ['dog.jpg', 'cat.jpg', 'dunno.jpg']\n",
    "\n",
    "intf = gr,Interface(fn=classify_image, inputs=image, outputs=label, examples=examples)\n",
    "intf.launch(inline=False)"
   ]
  },
  {
   "cell_type": "markdown",
   "id": "a75d6023",
   "metadata": {},
   "source": [
    "m = learn.model"
   ]
  },
  {
   "cell_type": "code",
   "execution_count": null,
   "id": "5e8f1a13",
   "metadata": {},
   "outputs": [],
   "source": [
    "ps = list(m.parameters())"
   ]
  },
  {
   "cell_type": "code",
   "execution_count": null,
   "id": "51c34d17",
   "metadata": {},
   "outputs": [],
   "source": [
    "ps[1]"
   ]
  },
  {
   "cell_type": "code",
   "execution_count": null,
   "id": "4f160dfc",
   "metadata": {},
   "outputs": [],
   "source": [
    "ps[0].shape"
   ]
  },
  {
   "cell_type": "code",
   "execution_count": null,
   "id": "ec099be7",
   "metadata": {},
   "outputs": [],
   "source": [
    "ps[0]"
   ]
  },
  {
   "cell_type": "code",
   "execution_count": null,
   "id": "75d12696",
   "metadata": {},
   "outputs": [],
   "source": [
    "from nbdev.export import notebook2script"
   ]
  },
  {
   "cell_type": "code",
   "execution_count": null,
   "id": "0098e975",
   "metadata": {},
   "outputs": [],
   "source": [
    "notebook2script('app.ipynb')"
   ]
  }
 ],
 "metadata": {
  "kernelspec": {
   "display_name": "Python 3 (ipykernel)",
   "language": "python",
   "name": "python3"
  },
  "language_info": {
   "codemirror_mode": {
    "name": "ipython",
    "version": 3
   },
   "file_extension": ".py",
   "mimetype": "text/x-python",
   "name": "python",
   "nbconvert_exporter": "python",
   "pygments_lexer": "ipython3",
   "version": "3.10.6"
  }
 },
 "nbformat": 4,
 "nbformat_minor": 5
}
